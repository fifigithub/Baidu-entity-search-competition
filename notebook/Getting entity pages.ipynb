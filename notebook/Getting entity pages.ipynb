{
 "cells": [
  {
   "cell_type": "code",
   "execution_count": 43,
   "metadata": {
    "collapsed": true
   },
   "outputs": [],
   "source": [
    "import os\n",
    "from os import path\n",
    "from IPython.display import display, HTML\n",
    "import json\n",
    "import unicodecsv as csv\n",
    "entity_dir = r'../data/ENTITY SET'"
   ]
  },
  {
   "cell_type": "code",
   "execution_count": 2,
   "metadata": {
    "collapsed": false
   },
   "outputs": [],
   "source": [
    "filenames = [path.join(entity_dir, fname) for fname in os.listdir(entity_dir)]\n",
    "all_entities = []\n",
    "for fname in filenames:\n",
    "    with open(fname) as infile:\n",
    "        content = unicode(infile.read(), 'gbk')\n",
    "        all_entities.extend([i for i in content.split('\\n') if len(i.strip()) != 0])\n",
    "all_entities = set(all_entities)"
   ]
  },
  {
   "cell_type": "code",
   "execution_count": 3,
   "metadata": {
    "collapsed": false
   },
   "outputs": [
    {
     "name": "stdout",
     "output_type": "stream",
     "text": [
      "140969\n",
      "吴浩康 陆缘桂林米粉(厦门:思明区厦禾路) 八十天后说爱她(2010) 黑暗风暴(2006) 双头鹰之谜(1987) Frank Lounge(上海:杨浦区国庠路) 皖南私房菜馆(合肥:蜀山区望江路) 一品湘(宁波:北仑区小港街) 陈丽娟(歌仔戏演员) 陈文贵(东莞鱼光网络CEO) 人人都恨克里斯第二季(2006) 陈建(中国人民大学经济学教授) 破铁幕(1984) 亿食坊(广州:越秀区海珠中路) 和米堂(兰州:城关区甘南路) 爸爸出走了(2002) 张炜(著名影视制片人) 皇宫燕窝(上海:静安区石门一路) 吸血鬼3(2005) 梅耶荷德 四川姐弟肥肠鸡(沈阳:铁西区卫工南街) 控制游戏(2015) 关中刀客(2003) 金好牙 崔菲菲(《梅艳芳菲》参赛选手) 乾福·天津味道(天津:西青区华苑产业园区梅苑路) 王枝园农庄(广州:白云区钟落潭镇钟车路) 欧阳黔森 赫默尔(2012) 血战淞沪(2013) 程嘉美 王建军(青岛啤酒集团副总裁) 湘味蒸菜馆(上海:浦东新区唐镇吕三路) 客来家农家炒菜(青岛:李沧区李沧区秀峰路) 辣九香重庆老火锅(深圳:福田区福田区台湾花园东园路) 总统班底(1976) 雅谷花园餐厅酒吧(杭州:西湖区玉古路) 明晓溪(著名女作家) 麻辣小龙虾(沈阳:铁西区南六东路) 威尔斯(英国科幻作家) 南京灌汤包(济南:历下区山大路) 朝加真由美 王兰英(青海省委党校经济学部教授) 玖零后面馆(扬州:邗江区马太路) 李璞(陕西商州市城关中学教师) 李俐(贵州大学副教授) 美味乡村(上海:松江区江学路) 独一家美味烤鱼(武汉:江汉区民生路) 邻家小厨(宁波:北仑区小港公园路) 孟德(元朝昭勇大将军) 萨拉欢乐餐厅(上海:徐汇区桂林路) 赤松山魂(2006) 太学生话题社(2014) 葛丽亚·嘉逊 爱客仕(长春:朝阳区桂林路) 满铭焖鲜汇(扬州:广陵区靖泰淘宝) 四川小馆(深圳:罗湖区罗湖区太宁路) 杨铭宇黄焖鸡米饭(合肥:蜀山区望江西路) 锄奸记(1944) 杨军(德州市委常委) 卧底硬汉(2004) 八仙桌(成都:金堂五凤溪古镇) 京一舫海鲜(北京:朝阳区朝阳路) 李皇后(成汉国归义侯李势皇后) 张强(汪涵模仿者) 魔鬼征服者(1997) 老曾记面馆(昆明:西山区环城南路) 刘华杰(河北大学生命科学学院教授) 靓女阿萍(1985) 史塔克芝士肋排(济南:历下区文化西路) 神经侠侣(2005) 绿工坊蛋糕店(广州:番禺区石基城区大道) 四季酒店自助餐厅(深圳:福田区中心三路) 最美时光咖啡书吧(青岛:黄岛区长江中路) 江湖篇之大佬(2003) 盛秦阁牛羊肉泡馍(西安:未央区红旗东路) 刘泽华(南华大学教务处处长) 司马望 超越猪血汤炸酱面(南昌:西湖区子安路) 兰陵王(2013) 世博花园酒店(昆明:盘龙区世博路) 不平静的巩巴克(1986) 复旦小吃街(上海:杨浦区国权路) 致命性骚扰(2002) 谢海(山西省人大常委会农村工作委员会主任) 霍勇(信阳市政协副主席) 林健(同济大学教授) 爱与慈悲(2014) 鼎福轩(北京:昌平区天通苑东三区) 佳福乐东北饺子(北京:朝阳区青年路) 人有三急(2010) 夜半鬼敲门2(1987) 彭德楷黄焖鸡米饭(南京:江宁区天元东路) 尚菜餐厅(郑州:金水区索凌路) LOOKING BAR(厦门:思明区思明区环岛路) 阳光(广西桂林画院副院长) 陈树湘 程颢 周静(沈阳农业大学经济管理学院副院长) 爱都爱都(2005)\n"
     ]
    }
   ],
   "source": [
    "print len(all_entities)\n",
    "print ' '.join(list(all_entities)[:100])"
   ]
  },
  {
   "cell_type": "code",
   "execution_count": 4,
   "metadata": {
    "collapsed": true
   },
   "outputs": [],
   "source": [
    "sub_tasks = ['celebrity', 'movie', 'restaurant', 'tvShow']\n",
    "trainset_locs = map(path.abspath, ['../data/TRAIN SET/%s.TRAINSET.txt' % t for t in sub_tasks])\n",
    "devset_locs = map(path.abspath, ['../data/DEV SET/%s.DEVSET.txt' % t for t in sub_tasks])\n",
    "output_locs = map(path.abspath, ['../output/%s.txt' % t for t in sub_tasks])\n",
    "def LoadInData(data_loc, test_data=False):\n",
    "    lines = unicode(open(data_loc).read(), 'gbk').split('\\n')\n",
    "    parsing_result = []\n",
    "    for line in lines:\n",
    "        terms = line.split('\\t')\n",
    "        items = []\n",
    "        for i in terms[1:]:\n",
    "            if test_data:\n",
    "                ent, score = i, None\n",
    "\n",
    "            else:\n",
    "                colon_separated = i.split(':')\n",
    "                ent = ':'.join(colon_separated[:-1])\n",
    "                score = int(colon_separated[-1])\n",
    "            items.append((ent, score))\n",
    "        if len(items) == 0:\n",
    "            continue\n",
    "        parsing_result.append((terms[0], items))\n",
    "    return parsing_result\n",
    "\n",
    "train_data = map(LoadInData, trainset_locs)\n",
    "dev_data = [LoadInData(d, True) for d in devset_locs]"
   ]
  },
  {
   "cell_type": "code",
   "execution_count": 5,
   "metadata": {
    "collapsed": false
   },
   "outputs": [],
   "source": [
    "used_in_cur_data = set()\n",
    "for data_block in train_data + dev_data:\n",
    "    for ent in data_block:\n",
    "        for r, g in ent[1]:\n",
    "            used_in_cur_data.add(r)"
   ]
  },
  {
   "cell_type": "code",
   "execution_count": 6,
   "metadata": {
    "collapsed": false
   },
   "outputs": [
    {
     "name": "stdout",
     "output_type": "stream",
     "text": [
      "96126\n"
     ]
    }
   ],
   "source": [
    "print len(used_in_cur_data)"
   ]
  },
  {
   "cell_type": "code",
   "execution_count": 7,
   "metadata": {
    "collapsed": false
   },
   "outputs": [
    {
     "name": "stdout",
     "output_type": "stream",
     "text": [
      "set([])\n"
     ]
    }
   ],
   "source": [
    "print set(used_in_cur_data) - set(all_entities)"
   ]
  },
  {
   "cell_type": "markdown",
   "metadata": {},
   "source": [
    "# Searching on Baidu\n"
   ]
  },
  {
   "cell_type": "code",
   "execution_count": 8,
   "metadata": {
    "collapsed": false
   },
   "outputs": [],
   "source": [
    "import urllib\n",
    "from bs4 import BeautifulSoup\n",
    "\n",
    "def SearchForEntityName(name):\n",
    "    request_template = 'http://baike.baidu.com/search?%s'\n",
    "    #urllib.urlopen('')\n",
    "    args = urllib.urlencode({\"word\" : name.encode('utf8'), 'pn' : 0, 'rn' : 0, 'enc' : 'utf8'})\n",
    "    request = request_template % args\n",
    "\n",
    "    response = urllib.urlopen(request).read()\n",
    "    return unicode(response, 'utf8')\n",
    "response = SearchForEntityName(list(all_entities)[0])"
   ]
  },
  {
   "cell_type": "code",
   "execution_count": 9,
   "metadata": {
    "collapsed": false,
    "scrolled": false
   },
   "outputs": [
    {
     "name": "stdout",
     "output_type": "stream",
     "text": [
      "吴浩康 http://baike.baidu.com/view/109039.htm 吴浩康，1983年6月13日出生于香港，歌手。2002年参加无线电视自办的全球华人新秀赛总选获季军，开始出唱片、拍广告、电视剧和电影，曾因藏毒、殴打等...\n",
      "上帝保佑 http://baike.baidu.com/subview/6400874/16588146.htm 1上帝保佑窦唯歌曲 ▪ 基本信息 ▪ 歌曲介绍 ▪ 歌曲歌词 2上帝保佑吴浩康、梁洛施歌曲 ▪ 歌曲信息 ▪ 歌词 ▪ 歌手简介 1...\n",
      "囡 http://baike.baidu.com/view/256344.htm 由毕国智执导的影片《囡囡》,2010年04月05日在香港朗豪坊举行首映礼,主演林钰轩、冼色丽、诗雅、王敏奕、曾国祥、吴浩康、骆振伟等悉数到齐。该片讲述了几位援交...\n",
      "严励行 http://baike.baidu.com/view/2212400.htm 吴浩康 - 惩罚自己(编) 吴浩康 - 真人Show(编) 吴浩康 - 前戏(编) 吴浩康 - 我可以(编) 泳儿- 黑眼圈(编) 方力申 - 脆弱的石头(编) 方力申 - 先苦后...\n",
      "洗剪吹(吴浩康演唱歌曲) http://baike.baidu.com/subview/9684540/11032376.htm 《洗剪吹》是吴浩康演唱歌曲,所属专辑《黄伟文-Y100精选》。...... 《洗剪吹》是吴浩康演唱歌曲,所属专辑《黄伟文-Y100精选》。 中文名称 洗剪吹 所属专辑 《黄伟文...\n",
      "爱不疚 http://baike.baidu.com/view/2638879.htm 时间歌曲歌手专辑 2008年12月 爱不疚 吴浩康 《Break It》[13] 参考资料 1. 组图:十大中文金曲颁奖礼 林峰演唱《爱不疚》 .腾讯娱乐[引用日期2014-05-5] 2....\n",
      "关智斌 http://baike.baidu.com/view/91003.htm 迈向梦想的天空 (与吴浩康、吴卓羲合唱,电视剧《学警出更》主题曲) 梦幻组合 (与容祖儿twins郑希怡蒋雅文李逸朗 吴浩康 泳儿文彼得合唱) 死性不改 (boy'z时期与...\n",
      "罪人(吴浩康演唱歌曲) http://baike.baidu.com/subview/550266/12481341.htm 罪人是由林夕作词、彭海桐谱曲、吴浩康原唱的一首流行歌曲,收录吴浩康2006年6月27日发行的专辑《Documentary》。...\n",
      "林子善 http://baike.baidu.com/view/531903.htm 林子善中学就读于伯裘书院,歌手吴浩康是他的中学同学 林子善剧照 林子善剧照 (16张) 。1998年参加训练班,因表演突出,被安排在《喜剧之王》内演出洪爷一角而为人...\n",
      "郑希怡 http://baike.baidu.com/view/43953.htm 2008年2月 Yumiko X 吴浩康“敢说敢爱”音乐会 2008年3月 保良局教育服务60周年缤纷Show 2008年5月 香港各界青少年 一心一印 迎奥运音乐会 2008年12月 《...\n",
      "吴浩康，1983年6月13日出生于香港，歌手。2002年参加无线电视自办的全球华人新秀赛总选获季军，开始出唱片、拍广告、电视剧和电影，曾因藏毒、殴打等... http://baike.baidu.com/view/109039.htm 吴浩康\n"
     ]
    }
   ],
   "source": [
    "soup = BeautifulSoup(response)\n",
    "\n",
    "for result in soup.find_all('dd'):\n",
    "    try:\n",
    "        title = result.find_all('a', {'class' : 'result-title'})[0]\n",
    "        summary = result.find_all('p', {'class' : 'result-summary'})[0]\n",
    "        print title.text.replace(u'_百度百科', ''), title['href'], summary.text\n",
    "    except IndexError:\n",
    "        continue\n",
    "        \n",
    "\n",
    "def ExtractFirstDesc(response):\n",
    "    soup = BeautifulSoup(response)\n",
    "    result = soup.find_all('dd')[0]\n",
    "    try:\n",
    "        title = result.find_all('a', {'class' : 'result-title'})[0]\n",
    "        summary = result.find_all('p', {'class' : 'result-summary'})[0]\n",
    "        return {'title' : title.text.replace(u'_百度百科', ''), 'link' : title['href'], 'summary' : summary.text}\n",
    "    except IndexError:\n",
    "        raise\n",
    "\n",
    "print ' '.join(ExtractFirstDesc(response).values())"
   ]
  },
  {
   "cell_type": "code",
   "execution_count": 10,
   "metadata": {
    "collapsed": false
   },
   "outputs": [],
   "source": [
    "import sqlite3\n",
    "\n",
    "conn = sqlite3.connect('../entities_db/entities.db')\n",
    "cursor = conn.cursor()"
   ]
  },
  {
   "cell_type": "code",
   "execution_count": 11,
   "metadata": {
    "collapsed": false
   },
   "outputs": [
    {
     "name": "stdout",
     "output_type": "stream",
     "text": [
      "849 151\n"
     ]
    }
   ],
   "source": [
    "def TryParsingResposne((entity_name, response, _)):\n",
    "    try:\n",
    "        ExtractFirstDesc(response)\n",
    "        return (1, 0)\n",
    "    except:\n",
    "        return (0, 1)\n",
    "\n",
    "total_s, total_f = 0, 0\n",
    "for i, item in enumerate(cursor.execute('select * from search_results limit 1000')):\n",
    "    s, f = TryParsingResposne(item)\n",
    "    total_s += s\n",
    "    total_f += f\n",
    "print total_s, total_f"
   ]
  },
  {
   "cell_type": "code",
   "execution_count": 26,
   "metadata": {
    "collapsed": true
   },
   "outputs": [],
   "source": [
    "failure_items = []\n",
    "for i, item in enumerate(cursor.execute('select * from search_results limit 1000')):\n",
    "    s, f = TryParsingResposne(item)\n",
    "    if f:\n",
    "        failure_items.append(item)\n",
    "        if len(failure_items) == 10:\n",
    "            break"
   ]
  },
  {
   "cell_type": "code",
   "execution_count": 32,
   "metadata": {
    "collapsed": false,
    "scrolled": false
   },
   "outputs": [
    {
     "data": {
      "text/html": [
       "<!DOCTYPE html>\n",
       "<!--STATUS OK-->\n",
       "<html>\n",
       "\n",
       "\n",
       "<head>\n",
       "<meta charset=\"UTF-8\">\n",
       "<meta http-equiv=\"X-UA-Compatible\" content=\"IE=Edge\" />\n",
       "<meta name=\"description\" content=\"百度百科是一部内容开放、自由的网络百科全书，旨在创造一个涵盖所有领域知识，服务所有互联网用户的中文知识性百科全书。在这里你可以参与词条编辑，分享贡献你的知识。\">\n",
       "<title>百度百科_全球最大中文百科全书</title>\n",
       "\r\n",
       "  <meta itemprop=\"name\" content=\"百度百科_全球最大中文百科全书\">\r\n",
       "  <meta itemprop=\"description\" content=\"百度百科是一部内容开放、自由的网络百科全书，旨在创造一个涵盖所有领域知识，服务所有互联网用户的中文知识性百科全书。在这里你可以参与词条编辑，分享贡献你的知识。\">\r\n",
       "  <meta itemprop=\"image\" content=\"http://baike.bdimg.com/cms/static/baike.png\">\r\n",
       "\n",
       "<!--[if lte IE 9]>\n",
       "<script>\r\n",
       "    (function() {\r\n",
       "      var e = \"abbr,article,aside,audio,canvas,datalist,details,dialog,eventsource,figure,footer,header,hgroup,mark,menu,meter,nav,output,progress,section,time,video\".split(\",\"),\r\n",
       "        i = e.length;\r\n",
       "      while (i--) {\r\n",
       "        document.createElement(e[i]);\r\n",
       "      }\r\n",
       "    })();\r\n",
       "  </script>\n",
       "<![endif]-->\n",
       "<link rel=\"stylesheet\" type=\"text/css\" href=\"http://baike.bdimg.com/static/wiki-common/pkg/wiki-common-base_509f53a.css\"/><link rel=\"stylesheet\" type=\"text/css\" href=\"http://baike.bdimg.com/static/wiki-search/pkg/wiki-search-search_76644f4.css\"/></head>\n",
       "<body class=\"w-small wiki-search\">\n",
       "\n",
       "\r\n",
       "  <div class=\"header-wrapper\">\r\n",
       "    <ul class=\"wgt-userbar\">\n",
       "<li>\n",
       "<a href=\"http://www.baidu.com/\">百度首页</a>\n",
       "</li>\n",
       "</ul>\n",
       "    <div class=\"header\">\r\n",
       "      <div class=\"wgt-searchbar wgt-searchbar-main cmn-clearfix wgt-searchbar-main-hideNav\">\n",
       "<div class=\"logo-container\">\n",
       "<a class=\"logo cmn-inline-block\" title=\"到百科首页\" href=\"/\">\n",
       "<span class=\"cmn-baike-logo\">\n",
       "<em class=\"cmn-icon cmn-icons cmn-icons_logo-bai\"></em>\n",
       "<em class=\"cmn-icon cmn-icons cmn-icons_logo-du\"></em>\n",
       "<em class=\"cmn-icon cmn-icons cmn-icons_logo-baike\"></em>\n",
       "</span>\n",
       "</a>\n",
       "</div>\n",
       "<div class=\"search\">\n",
       "<div class=\"nav\">\n",
       "<a href=\"http://news.baidu.com/\" data-href=\"http://news.baidu.com/ns?tn=news&cl=2&rn=20&ct=1&fr=bks0000&ie=utf-8&word=\">新闻</a><a href=\"http://www.baidu.com/\" data-href=\"http://www.baidu.com/s?ie=utf-8&fr=bks0000&wd=\">网页</a><a href=\"http://tieba.baidu.com/\" data-href=\"http://tieba.baidu.com/f?ie=utf-8&fr=bks0000&kw=\">贴吧</a><a href=\"http://zhidao.baidu.com/\" data-href=\"http://zhidao.baidu.com/search?pn=0&&rn=10&lm=0&fr=bks0000&word=\">知道</a><a href=\"http://music.baidu.com/\" data-href=\"http://music.baidu.com/search?f=ms&ct=134217728&ie=utf-8&rn=&lm=-1&pn=30fr=bks0000&key=\">音乐</a><a href=\"http://image.baidu.com/\" data-href=\"http://image.baidu.com/search/index?tn=baiduimage&ct=201326592&lm=-1&cl=2&nc=1&ie=utf-8&word=\">图片</a><a href=\"http://v.baidu.com/\" data-href=\"http://v.baidu.com/v?ct=301989888&rn=20&pn=0&db=0&s=22&ie=utf-8&fr=bks0000&word=\">视频</a><a href=\"http://map.baidu.com/\" data-href=\"http://map.baidu.com/m?ie=utf-8&fr=bks0000&word=\">地图</a><a class=\"baike\">百科</a><a href=\"http://wenku.baidu.com/\" data-href=\"http://wenku.baidu.com/search?lm=0&od=0&ie=utf-8&fr=bks0000&word=\">文库</a>\n",
       "</div>\n",
       "<div class=\"form\">\n",
       "<form id=\"searchForm\" action=\"/search/word\" method=\"GET\" target=\"_self\">\n",
       "<input id=\"query\" name=\"word\" type=\"text\" autocomplete=\"off\" autocorrect=\"off\" value=\"斯麦欧蛋糕(大连:沙河口区莱州街)\" /><button id=\"search\" type=\"button\">进入词条</button><button id=\"searchLemma\" type=\"button\">搜索词条</button><a class=\"help\" href=\"/help\" target=\"_blank\">帮助</a>\n",
       "</form>\n",
       "<form id=\"searchLemmaForm\" action=\"/search\" method=\"GET\" target=\"_self\">\n",
       "<input id=\"searchLemmaQuery\" name=\"word\" type=\"hidden\" />\n",
       "<input name=\"pn\" type=\"hidden\" value=\"0\" />\n",
       "<input name=\"rn\" type=\"hidden\" value=\"0\" />\n",
       "<input name=\"enc\" type=\"hidden\" value=\"utf8\" />\n",
       "</form>\n",
       "<ul id=\"suggestion\" class=\"suggestion\">\n",
       "<div></div>\n",
       "<li class=\"extra\">\n",
       "<span id=\"close\">关闭</span>\n",
       "</li>\n",
       "</ul>\n",
       "</div>\n",
       "</div>\n",
       "</div>\n",
       "    </div>\r\n",
       "    \r\n",
       "<div class=\"headTab\">\r\n",
       "  <a href=\"http://news.baidu.com/\" data-href=\"http://news.baidu.com/\">新闻</a>\r\n",
       "  <a href=\"http://www.baidu.com/\" data-href=\"http://www.baidu.com/\">网页</a>\r\n",
       "  <a href=\"http://tieba.baidu.com/\" data-href=\"http://tieba.baidu.com/\">贴吧</a>\r\n",
       "  <a href=\"http://zhidao.baidu.com/\" data-href=\"http://zhidao.baidu.com/\">知道</a>\r\n",
       "  <a href=\"http://music.baidu.com/\" data-href=\"http://music.baidu.com/\">音乐</a>\r\n",
       "  <a href=\"http://image.baidu.com/\" data-href=\"http://image.baidu.com/\">图片</a>\r\n",
       "  <a href=\"http://v.baidu.com/\" data-href=\"http://v.baidu.com/\">视频</a>\r\n",
       "  <a href=\"http://map.baidu.com/\" data-href=\"http://map.baidu.com/\">地图</a>\r\n",
       "  <a href=\"http://wenku.baidu.com/\" data-href=\"http://wenku.baidu.com/\">文库</a>\r\n",
       "  <a class=\"baike\">百科</a>\r\n",
       "</div>\r\n",
       "\r\n",
       "  </div>\r\n",
       "\n",
       "\r\n",
       "  <div class=\"body-wrapper\" id=\"body_wrapper\">\r\n",
       "    \r\n",
       "<div class=\"searchResult\">\r\n",
       "      <div class=\"no-result\">抱歉，没有找到与 “<em>斯麦欧蛋糕(大连:沙河口区莱州街)</em>” 相关的百科结果。</div>\r\n",
       "            <dl class=\"search-advice\">\r\n",
       "      <dt>百度建议您</dt>\r\n",
       "      <dd><a href=\"http://www.baidu.com/s?ie=utf-8&fr=bks0000&wd=%E6%96%AF%E9%BA%A6%E6%AC%A7%E8%9B%8B%E7%B3%95%28%E5%A4%A7%E8%BF%9E:%E6%B2%99%E6%B2%B3%E5%8F%A3%E5%8C%BA%E8%8E%B1%E5%B7%9E%E8%A1%97%29\" target=\"_blank\">去网页搜索：<em>斯麦欧蛋糕(大连:沙河口区莱州街)</em></a></dd>\r\n",
       "      <dd><a href=\"http://zhidao.baidu.com/new?fix=&word=%E6%96%AF%E9%BA%A6%E6%AC%A7%E8%9B%8B%E7%B3%95%28%E5%A4%A7%E8%BF%9E:%E6%B2%99%E6%B2%B3%E5%8F%A3%E5%8C%BA%E8%8E%B1%E5%B7%9E%E8%A1%97%29&ct=17&pn=0&tn=ikask&rn=10&cm=1&qf=3&lm=394496&fr=baike\" target=\"_blank\">去知道提问 >></a></dd>\r\n",
       "      <dd>检查输入的文字是否有误</dd>\r\n",
       "    </dl>\r\n",
       "    <div class=\"search-pager\"></div>\r\n",
       "</div>\r\n",
       "\r\n",
       "    <div id=\"side_box_fengchao\" class=\"side-box-fengchao\" nslog=\"area\" nslog-type=\"10000922\">\r\n",
       "    <div class=\"side-box-fengchao-title\">推广链接</div>\r\n",
       "    <div class=\"J-content\"></div>\r\n",
       "</div>\r\n",
       "  </div>\r\n",
       "\n",
       "\r\n",
       "  <div class=\"wgt-footer-main\">\n",
       "<div class=\"content\">\n",
       "<dl class=\"fresh\">\n",
       "<dt><em class=\"cmn-icon cmn-icons cmn-icons_footer-fresh\"></em>新手上路</dt>\n",
       "<dd>\n",
       "<div><a target=\"_blank\" href=\"/usercenter/tasks#guide\">成长任务</a></div>\n",
       "<div><a target=\"_blank\" href=\"/help#main01\">编辑入门</a></div>\n",
       "<div><a target=\"_blank\" href=\"/help#main06\">编辑规则</a></div>\n",
       "<div><a target=\"_blank\" href=\"/help#main05\">百科术语</a></div>\n",
       "</dd>\n",
       "</dl>\n",
       "<dl class=\"question\">\n",
       "<dt><em class=\"cmn-icon cmn-icons cmn-icons_footer-question\"></em>我有疑问</dt>\n",
       "<dd>\n",
       "<div><a target=\"_blank\" href=\"/user/question\">常见问题</a></div>\n",
       "<div><a target=\"_blank\" href=\"http://ikefu.baidu.com/baidubaike/chat.html\" nslog-type=\"10000003\">我要提问</a></div>\n",
       "<div><a target=\"_blank\" href=\"http://tieba.baidu.com/f?ie=utf-8&fr=bks0000&kw=%E7%99%BE%E5%BA%A6%E7%99%BE%E7%A7%91\">参加讨论</a></div>\n",
       "<div><a target=\"_blank\" href=\"/feedback\">意见反馈</a></div>\n",
       "</dd>\n",
       "</dl>\n",
       "<dl class=\"suggestion\">\n",
       "<dt><em class=\"cmn-icon cmn-icons cmn-icons_footer-suggestion\"></em>投诉建议</dt>\n",
       "<dd>\n",
       "<div><a target=\"_blank\" href=\"http://tousu.baidu.com/baike#1\">举报不良信息</a></div>\n",
       "<div><a target=\"_blank\" href=\"http://tousu.baidu.com/baike#2\">未通过词条申诉</a></div>\n",
       "<div><a target=\"_blank\" href=\"http://tousu.baidu.com/baike#4\">投诉侵权信息</a></div>\n",
       "<div><a target=\"_blank\" href=\"http://tousu.baidu.com/baike#3\">封禁查询与解封</a></div>\n",
       "</dd>\n",
       "</dl>\n",
       "</div>\n",
       "<div class=\"copyright\">©2016Baidu&nbsp;<a href=\"http://www.baidu.com/duty/\" target=\"_blank\">使用百度前必读</a>&nbsp;|&nbsp;<a href=\"http://help.baidu.com/question?prod_en=baike&class=159&id=1047\" target=\"_blank\">百科协议</a>&nbsp;|&nbsp;<a href=\"/operation/cooperation\" target=\"_blank\">百度百科合作平台</a></div>\n",
       "</div>\n",
       "\r\n",
       "    </body><script type=\"text/javascript\" src=\"http://baike.bdimg.com/static/wiki-common/pkg/wiki-common_sync_js_0_556fe8d.js\"></script>\n",
       "<script type=\"text/javascript\">require.resourceMap({\"res\":{\"wiki-search:widget/fengchao/fengchao.js\":{\"url\":\"http://baike.bdimg.com/static/wiki-search/widget/fengchao/fengchao_75ca3e5.js\",\"deps\":[\"wiki-common:widget/lib/jquery/jquery.js\",\"wiki-common:widget/component/nslog/nslog.js\"]}}});</script><script type=\"text/javascript\" src=\"http://baike.bdimg.com/static/wiki-common/widget/lib/jsmart/PHPJS_3347e0a.js\"></script>\n",
       "<script type=\"text/javascript\" src=\"http://baike.bdimg.com/static/wiki-common/pkg/wiki-common_sync_js_1_56bd75b.js\"></script>\n",
       "<script type=\"text/javascript\" src=\"http://baike.bdimg.com/static/wiki-search/pkg/wiki-search_sync_js_0_dff6fc9.js\"></script>\n",
       "<script type=\"text/javascript\" src=\"http://baike.bdimg.com/static/wiki-search/widget/fengchao/fengchao_75ca3e5.js\"></script>\n",
       "<script type=\"text/javascript\">!function(){  var $ = require('wiki-common:widget/lib/jquery/jquery.js'),\r\n",
       "    userbar = require('wiki-common:widget/component/userbar/userbar.js');\r\n",
       "    \r\n",
       "  $(function() {\r\n",
       "    userbar.buildUserbar($('.wgt-userbar'), null);\r\n",
       "  });\r\n",
       "}();\n",
       "!function(){    var $ = require('wiki-common:widget/lib/jquery/jquery.js'),\r\n",
       "      initSearchbar = require('wiki-common:widget/component/searchbar/searchbar.js');  \r\n",
       "    initSearchbar($('.wgt-searchbar-main'));\r\n",
       "  }();\n",
       "!function(){  require('wiki-search:widget/headTab/headTab.js');\r\n",
       "}();\n",
       "!function(){  require('wiki-search:widget/searchResult/searchResult.js')({\"word\":\"\\u65af\\u9ea6\\u6b27\\u86cb\\u7cd5(\\u5927\\u8fde:\\u6c99\\u6cb3\\u53e3\\u533a\\u83b1\\u5dde\\u8857)\",\"rsse\":[],\"total\":0,\"pn\":0,\"rn\":10,\"list\":[],\"resFrom\":\"search\"});\r\n",
       "}();\n",
       "!function(){    require.async(\"wiki-search:widget/fengchao/fengchao.js\", function (init) {\r\n",
       "        init({\r\n",
       "            searchWord: \"斯麦欧蛋糕(大连:沙河口区莱州街)\"\r\n",
       "        });\r\n",
       "    });\r\n",
       "}();\n",
       "!function(){      require('wiki-common:widget/component/psLink/psLink.js');\r\n",
       "    }();</script></html><!--30219933950289547274033005-->\n",
       "<script> var _trace_page_logid = 3021993395; </script>"
      ],
      "text/plain": [
       "<IPython.core.display.HTML object>"
      ]
     },
     "metadata": {},
     "output_type": "display_data"
    }
   ],
   "source": [
    "display(HTML(failure_items[4][1]))"
   ]
  },
  {
   "cell_type": "code",
   "execution_count": 34,
   "metadata": {
    "collapsed": false
   },
   "outputs": [
    {
     "name": "stdout",
     "output_type": "stream",
     "text": [
      "finished 0, out of 140969\n",
      "finished 1000, out of 140969\n",
      "finished 2000, out of 140969\n",
      "finished 3000, out of 140969\n",
      "finished 4000, out of 140969\n",
      "finished 5000, out of 140969\n",
      "finished 6000, out of 140969\n",
      "finished 7000, out of 140969\n",
      "finished 8000, out of 140969\n",
      "finished 9000, out of 140969\n",
      "finished 10000, out of 140969\n",
      "finished 11000, out of 140969\n",
      "finished 12000, out of 140969\n",
      "finished 13000, out of 140969\n",
      "finished 14000, out of 140969\n",
      "finished 15000, out of 140969\n",
      "finished 16000, out of 140969\n",
      "finished 17000, out of 140969\n",
      "finished 18000, out of 140969\n",
      "finished 19000, out of 140969\n",
      "finished 20000, out of 140969\n",
      "finished 21000, out of 140969\n",
      "finished 22000, out of 140969\n",
      "finished 23000, out of 140969\n",
      "finished 24000, out of 140969\n",
      "finished 25000, out of 140969\n",
      "finished 26000, out of 140969\n",
      "finished 27000, out of 140969\n",
      "finished 28000, out of 140969\n",
      "finished 29000, out of 140969\n",
      "finished 30000, out of 140969\n",
      "finished 31000, out of 140969\n",
      "finished 32000, out of 140969\n",
      "finished 33000, out of 140969\n",
      "finished 34000, out of 140969\n",
      "finished 35000, out of 140969\n",
      "finished 36000, out of 140969\n",
      "finished 37000, out of 140969\n",
      "finished 38000, out of 140969\n",
      "finished 39000, out of 140969\n",
      "finished 40000, out of 140969\n",
      "finished 41000, out of 140969\n",
      "finished 42000, out of 140969\n",
      "finished 43000, out of 140969\n",
      "finished 44000, out of 140969\n",
      "finished 45000, out of 140969\n",
      "finished 46000, out of 140969\n",
      "finished 47000, out of 140969\n",
      "finished 48000, out of 140969\n",
      "finished 49000, out of 140969\n",
      "finished 50000, out of 140969\n",
      "finished 51000, out of 140969\n",
      "finished 52000, out of 140969\n",
      "finished 53000, out of 140969\n",
      "finished 54000, out of 140969\n",
      "finished 55000, out of 140969\n",
      "finished 56000, out of 140969\n",
      "finished 57000, out of 140969\n",
      "finished 58000, out of 140969\n",
      "finished 59000, out of 140969\n",
      "finished 60000, out of 140969\n",
      "finished 61000, out of 140969\n",
      "finished 62000, out of 140969\n",
      "finished 63000, out of 140969\n",
      "finished 64000, out of 140969\n",
      "finished 65000, out of 140969\n",
      "finished 66000, out of 140969\n",
      "finished 67000, out of 140969\n",
      "finished 68000, out of 140969\n",
      "finished 69000, out of 140969\n",
      "finished 70000, out of 140969\n",
      "finished 71000, out of 140969\n",
      "finished 72000, out of 140969\n",
      "finished 73000, out of 140969\n",
      "finished 74000, out of 140969\n",
      "finished 75000, out of 140969\n",
      "finished 76000, out of 140969\n",
      "finished 77000, out of 140969\n",
      "finished 78000, out of 140969\n",
      "finished 79000, out of 140969\n",
      "finished 80000, out of 140969\n",
      "finished 81000, out of 140969\n",
      "finished 82000, out of 140969\n",
      "finished 83000, out of 140969\n",
      "finished 84000, out of 140969\n",
      "finished 85000, out of 140969\n",
      "finished 86000, out of 140969\n",
      "finished 87000, out of 140969\n",
      "finished 88000, out of 140969\n",
      "finished 89000, out of 140969\n",
      "finished 90000, out of 140969\n",
      "finished 91000, out of 140969\n",
      "finished 92000, out of 140969\n",
      "finished 93000, out of 140969\n",
      "finished 94000, out of 140969\n",
      "finished 95000, out of 140969\n",
      "finished 96000, out of 140969\n",
      "finished 97000, out of 140969\n",
      "finished 98000, out of 140969\n",
      "finished 99000, out of 140969\n",
      "finished 100000, out of 140969\n",
      "finished 101000, out of 140969\n",
      "finished 102000, out of 140969\n",
      "finished 103000, out of 140969\n",
      "finished 104000, out of 140969\n",
      "finished 105000, out of 140969\n",
      "finished 106000, out of 140969\n",
      "finished 107000, out of 140969\n",
      "finished 108000, out of 140969\n",
      "finished 109000, out of 140969\n",
      "finished 110000, out of 140969\n",
      "finished 111000, out of 140969\n",
      "finished 112000, out of 140969\n",
      "finished 113000, out of 140969\n",
      "finished 114000, out of 140969\n",
      "finished 115000, out of 140969\n",
      "finished 116000, out of 140969\n",
      "finished 117000, out of 140969\n",
      "finished 118000, out of 140969\n",
      "finished 119000, out of 140969\n",
      "finished 120000, out of 140969\n",
      "finished 121000, out of 140969\n",
      "finished 122000, out of 140969\n",
      "finished 123000, out of 140969\n",
      "finished 124000, out of 140969\n",
      "finished 125000, out of 140969\n",
      "finished 126000, out of 140969\n",
      "finished 127000, out of 140969\n",
      "finished 128000, out of 140969\n",
      "finished 129000, out of 140969\n",
      "finished 130000, out of 140969\n",
      "finished 131000, out of 140969\n",
      "finished 132000, out of 140969\n",
      "finished 133000, out of 140969\n",
      "finished 134000, out of 140969\n",
      "finished 135000, out of 140969\n",
      "finished 136000, out of 140969\n",
      "finished 137000, out of 140969\n",
      "finished 138000, out of 140969\n",
      "finished 139000, out of 140969\n",
      "finished 140000, out of 140969\n"
     ]
    }
   ],
   "source": [
    "parsing_result = []\n",
    "cursor.execute(\"select count(*) from search_results\")\n",
    "(total_amt, ) = cursor.fetchone()\n",
    "for i, (entity_name, response, _) in enumerate(cursor.execute('select * from search_results')):\n",
    "    if i % 1000 == 0:\n",
    "        print \"finished %d, out of %d\" % (i, total_amt)\n",
    "    try:\n",
    "        info = ExtractFirstDesc(response)\n",
    "    except:\n",
    "        info = {}\n",
    "    info['entity_name'] = entity_name\n",
    "    parsing_result.append(info)"
   ]
  },
  {
   "cell_type": "code",
   "execution_count": 44,
   "metadata": {
    "collapsed": false
   },
   "outputs": [],
   "source": [
    "with open('../entities_db/baike.csv', 'w') as ofile:\n",
    "    writer = csv.DictWriter(ofile, ['entity_name', 'title', 'link', 'summary'])\n",
    "    writer.writeheader()\n",
    "    for row in parsing_result:\n",
    "        writer.writerow(row)"
   ]
  }
 ],
 "metadata": {
  "kernelspec": {
   "display_name": "Python 2",
   "language": "python",
   "name": "python2"
  },
  "language_info": {
   "codemirror_mode": {
    "name": "ipython",
    "version": 2
   },
   "file_extension": ".py",
   "mimetype": "text/x-python",
   "name": "python",
   "nbconvert_exporter": "python",
   "pygments_lexer": "ipython2",
   "version": "2.7.6"
  }
 },
 "nbformat": 4,
 "nbformat_minor": 0
}
