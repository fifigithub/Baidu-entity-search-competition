{
 "cells": [
  {
   "cell_type": "markdown",
   "metadata": {},
   "source": [
    "Many entity search failed because we couldn't locate query characters within entity's summary page. This time we'll fetch he entity descriptions, and see if that'd help."
   ]
  },
  {
   "cell_type": "code",
   "execution_count": 36,
   "metadata": {
    "collapsed": false
   },
   "outputs": [
    {
     "ename": "ImportError",
     "evalue": "No module named tqdm",
     "output_type": "error",
     "traceback": [
      "\u001b[1;31m---------------------------------------------------------------------------\u001b[0m",
      "\u001b[1;31mImportError\u001b[0m                               Traceback (most recent call last)",
      "\u001b[1;32m<ipython-input-36-241c631e0247>\u001b[0m in \u001b[0;36m<module>\u001b[1;34m()\u001b[0m\n\u001b[0;32m      6\u001b[0m \u001b[1;32mimport\u001b[0m \u001b[0mtime\u001b[0m\u001b[1;33m\u001b[0m\u001b[0m\n\u001b[0;32m      7\u001b[0m \u001b[1;32mfrom\u001b[0m \u001b[0mbs4\u001b[0m \u001b[1;32mimport\u001b[0m \u001b[0mBeautifulSoup\u001b[0m\u001b[1;33m\u001b[0m\u001b[0m\n\u001b[1;32m----> 8\u001b[1;33m \u001b[1;32mimport\u001b[0m \u001b[0mtqdm\u001b[0m\u001b[1;33m\u001b[0m\u001b[0m\n\u001b[0m\u001b[0;32m      9\u001b[0m \u001b[0mbaike_file\u001b[0m \u001b[1;33m=\u001b[0m \u001b[1;34m'../entities_db/baike.csv'\u001b[0m\u001b[1;33m\u001b[0m\u001b[0m\n",
      "\u001b[1;31mImportError\u001b[0m: No module named tqdm"
     ]
    }
   ],
   "source": [
    "import unicodecsv as csv\n",
    "import urllib\n",
    "import logging\n",
    "import threading\n",
    "import Queue\n",
    "import time\n",
    "from bs4 import BeautifulSoup\n",
    "import tqdm\n",
    "baike_file = '../entities_db/baike.csv'"
   ]
  },
  {
   "cell_type": "code",
   "execution_count": 7,
   "metadata": {
    "collapsed": true
   },
   "outputs": [],
   "source": [
    "link_data = dict((line['entity_name'], line['link'])for line in csv.DictReader(open(baike_file)) if line['link'])"
   ]
  },
  {
   "cell_type": "code",
   "execution_count": 13,
   "metadata": {
    "collapsed": false
   },
   "outputs": [
    {
     "name": "stdout",
     "output_type": "stream",
     "text": [
      "95646\n"
     ]
    }
   ],
   "source": [
    "print len(link_data)\n",
    "sample_link = link_data.values()[0]"
   ]
  },
  {
   "cell_type": "code",
   "execution_count": 35,
   "metadata": {
    "collapsed": false,
    "scrolled": true
   },
   "outputs": [
    {
     "name": "stdout",
     "output_type": "stream",
     "text": [
      "http://baike.baidu.com/view/109039.htm\n",
      "吴浩康，1983年6月13日出生于香港，歌手。\n",
      "2002年参加无线电视自办的全球华人新秀赛总选获季军，开始出唱片、拍广告、电视剧和电影，曾因藏毒、殴打等控罪惹上官非。现属于香港英皇娱乐集团。\n",
      "2012年，他与吉他手Ryan Lam、低音吉他手Johnny Choi及鼓手Masaki Heung组成Closer乐队，并于6月15日推出唱片《Get Closer》。\n",
      "吴浩康从祖父起，三代均生于香港偏郊的茶果岭，两岁时举家搬往元朗，父吴志安则仍在茶果岭经营权记搬机运输公司，母亲为刘柳薇，家中共有3名姐姐，排行最小的也大他6年。\n",
      "1989年，其家人以99万元购入元朗锦锈花园一物业，小学时就读于元朗佛教荣茵学校，中学时就读于元朗伯裘书院。\n",
      "11岁时偷学泰拳，曾赢得奖杯，中四已辍学，曾教过两年guitar。\n",
      "\n",
      "\n",
      "\n",
      "\n",
      "\n",
      "生活照\n",
      "(11张)\n",
      "\n",
      "\n",
      "\n",
      "\n",
      "\n",
      "\n",
      "2002年参加全球华人新秀赛总选获季军，被英皇娱乐招揽，初出道时曾被冠以“英俊版陈奕迅的称号。\n",
      "两年内推出过两张 EP《Deep》及《Deep In Music》，《Deep：Inside》则是首张正式大碟，其中“孩子王”等曾在多个流行榜获得冠军。其公开女友为无线电视艺人胡定欣（已于2006年8月和平分手）；另与一新进歌手林子善是中学同学。\n",
      "感情生活\n",
      "2006年，吴浩康与庄思敏公开拍拖。[1] \n",
      "\n",
      "2011年，庄思敏单方面向传媒承认分手，其后吴浩康表示有意复合，却遭拒绝。[1] \n",
      "\n",
      "\n",
      "\n",
      "\n",
      "\n",
      "\n",
      "出席活动\n",
      "(21张)\n",
      "\n",
      "\n",
      "\n",
      "\n",
      "\n",
      "\n",
      "英皇三周年慈善演唱会 （红磡香港体育馆07/12/2002）加州红903十一团火音乐会（九龙湾国际展贸中心 11/2004）\n",
      "曾担任大使列表\n",
      "东华三院委任为“东华三院学校健康大使”\n",
      "香港伤残青年协会委任为“关怀大使”\n",
      "香港武术联会委任为“武术推广大使”\n",
      "2002年全球华人新秀歌唱大赛香港区选拔赛~ 金咪大奖\n",
      "2003年 PM第二届夏日人气颁奖典礼 ~ PM夏日靓声男新人\n",
      "香港电台《第26届十大中文金曲颁奖礼》最有前途新人奖 （男歌手）（银奖）\n",
      "2004年商业电台《03年度叱吒乐坛流行榜颁奖礼》叱吒乐坛新力军男歌手 （银奖）\n",
      "加拿大中文电台《加拿大至Hit中文歌曲排行榜 - 03年度全国乐迷投票》最受欢迎男新人（粤）（银奖）\n",
      "无线电视《2003年度十大劲歌金曲颁奖典礼》最受欢迎新人奖 （银奖）\n",
      "广东电视台《音乐先锋榜》2003年度总选 （香港） 最佳男新人奖\n",
      "2003年度劲歌王颁奖典礼 ~ 最有前途新人奖 （状元）\n",
      "无线电视《2004年劲歌金曲优秀选第一回》手机网络金曲奖 [孩子王]\n",
      "广州电台《金曲金榜》金曲最具实力男新人\n",
      "2005年\n",
      "商业电台《04年度叱吒乐坛流行榜颁奖礼》2004年四台联颁音乐大奖– 卓越表现大奖 （银奖）\n",
      "无线电视《2005年劲歌金曲优秀选第一回》入选金曲 [浪漫时代]\n",
      "RoadShow至尊音乐颁奖礼2005 ~ RoadShow至尊舞台星光演绎\n",
      "2006年\n",
      "第三届《劲歌王》总选颁奖典礼 ~ 网络人气男歌手\n",
      "2008年\n",
      "新城劲爆颁奖礼原创歌曲奖 歌曲名称：给爱惜的人\n"
     ]
    }
   ],
   "source": [
    "def FetchLink(link):\n",
    "    n_retry = 0\n",
    "    while n_retry <= 3:\n",
    "        try:\n",
    "            page = urllib.urlopen(sample_link).read()\n",
    "            soup = BeautifulSoup(page)\n",
    "            text = \"\\n\".join([i.text for i in soup('div', {'class' : 'para'})])\n",
    "            return text\n",
    "        except Exception, e:\n",
    "            logging.error(\"Error retrieving %s\", link)\n",
    "            n_retry += 1\n",
    "            time.sleep(3)\n",
    "    logging.error(\"Gave up %s\", link)\n",
    "    return None\n",
    "\n",
    "print sample_link\n",
    "print FetchLink(sample_link)"
   ]
  },
  {
   "cell_type": "code",
   "execution_count": null,
   "metadata": {
    "collapsed": true
   },
   "outputs": [],
   "source": [
    "task_queue = Queue.Queue()\n",
    "write_queue = Queue.Queue()\n",
    "\n",
    "class Worker(threading.Thread):\n",
    "    def run(self):\n",
    "        while True:\n",
    "            name, link = task_queue.get()\n",
    "            content = FetchLink(link)\n",
    "            write_queue.put((name, content))\n",
    "            \n",
    "class Writer(threading.Thread):\n",
    "    def __init__(self, outputfile, total_n):\n",
    "        threading.Thread.__init__(self)\n",
    "        self.outfile = open(outputfile, 'w')\n",
    "        self.writer = csv.DictWriter(self.outfile, ['entity_name', 'content'])\n",
    "        self.writer.writeheader()\n",
    "    \n",
    "    def run(self):\n",
    "        for i in tqdm(range(total_n)):\n",
    "            name, content = write_queue.get()\n",
    "            self.writer.writerow({'entity_name' : name, 'content' : content})"
   ]
  }
 ],
 "metadata": {
  "kernelspec": {
   "display_name": "Python 2",
   "language": "python",
   "name": "python2"
  },
  "language_info": {
   "codemirror_mode": {
    "name": "ipython",
    "version": 2
   },
   "file_extension": ".py",
   "mimetype": "text/x-python",
   "name": "python",
   "nbconvert_exporter": "python",
   "pygments_lexer": "ipython2",
   "version": "2.7.6"
  }
 },
 "nbformat": 4,
 "nbformat_minor": 0
}
