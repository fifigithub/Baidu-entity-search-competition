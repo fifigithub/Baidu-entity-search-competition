{
 "cells": [
  {
   "cell_type": "markdown",
   "metadata": {},
   "source": [
    "# Basic System Evaluation\n",
    "\n",
    "To fully understand the task, and the difficulties, I'll run one pass of evaluation in this NB. After the initial exploration, we can productionize this code."
   ]
  },
  {
   "cell_type": "code",
   "execution_count": 1,
   "metadata": {
    "collapsed": false
   },
   "outputs": [],
   "source": [
    "%matplotlib inline\n",
    "import matplotlib\n",
    "from matplotlib import pyplot\n",
    "\n",
    "# Imports\n",
    "import sklearn\n",
    "from sklearn.metrics import average_precision_score\n",
    "import numpy as np\n",
    "import random\n",
    "import copy\n",
    "from os import path\n",
    "import jinja2\n",
    "from IPython.display import display, HTML\n",
    "template_dir = path.abspath('../html')\n",
    "loader = jinja2.FileSystemLoader(template_dir)\n",
    "environment = jinja2.Environment(loader=loader)\n",
    "\n",
    "\n",
    "def apk(actual, predicted, k=None):\n",
    "    \"\"\"\n",
    "    Computes the average precision at k.\n",
    "    This function computes the average prescision at k between two lists of\n",
    "    items.\n",
    "    Parameters\n",
    "    ----------\n",
    "    actual : list\n",
    "             A list of elements that are to be predicted (order doesn't matter)\n",
    "    predicted : list\n",
    "                A list of predicted elements (order does matter)\n",
    "    k : int, optional\n",
    "        The maximum number of predicted elements\n",
    "    Returns\n",
    "    -------\n",
    "    score : double\n",
    "            The average precision at k over the input lists\n",
    "    \"\"\"\n",
    "    if k is None:\n",
    "        k = len(predicted)\n",
    "    if len(predicted)>k:\n",
    "        predicted = predicted[:k]\n",
    "\n",
    "    score = 0.0\n",
    "    num_hits = 0.0\n",
    "\n",
    "    for i,p in enumerate(predicted):\n",
    "        if p in actual and p not in predicted[:i]:\n",
    "            num_hits += 1.0\n",
    "            score += num_hits / (i+1.0)\n",
    "\n",
    "    if not actual:\n",
    "        return 0.0\n",
    "\n",
    "    return score / min(len(actual), k)\n",
    "\n",
    "sub_tasks = ['celebrity', 'movie', 'restaurant', 'tvShow']\n",
    "trainset_locs = map(path.abspath, ['../data/TRAIN SET/%s.TRAINSET.txt' % t for t in sub_tasks])\n",
    "devset_locs = map(path.abspath, ['../data/DEV SET/%s.DEVSET.txt' % t for t in sub_tasks])\n",
    "output_locs = map(path.abspath, ['../output/%s.txt' % t for t in sub_tasks])"
   ]
  },
  {
   "cell_type": "code",
   "execution_count": 2,
   "metadata": {
    "collapsed": false
   },
   "outputs": [
    {
     "name": "stdout",
     "output_type": "stream",
     "text": [
      "{'movie': 0.2517340041566798, 'celebrity': 0.16200874396783335, 'tvShow': 0.15635023180570576, 'restaurant': 0.1842064052397341}\n",
      "{'movie': 0.2526613002421202, 'celebrity': 0.15768724470200327, 'tvShow': 0.1619982381501169, 'restaurant': 0.1871086154277702}\n"
     ]
    }
   ],
   "source": [
    "# loading datasets\n",
    "def LoadInData(data_loc, test_data=False):\n",
    "    lines = unicode(open(data_loc).read(), 'gbk').split('\\n')\n",
    "    parsing_result = []\n",
    "    for line in lines:\n",
    "        terms = line.split('\\t')\n",
    "        items = []\n",
    "        for i in terms[1:]:\n",
    "            if test_data:\n",
    "                ent, score = i, None\n",
    "\n",
    "            else:\n",
    "                colon_separated = i.split(':')\n",
    "                ent = ':'.join(colon_separated[:-1])\n",
    "                score = int(colon_separated[-1])\n",
    "            items.append((ent, score))\n",
    "        if len(items) == 0:\n",
    "            continue\n",
    "        parsing_result.append((terms[0], items))\n",
    "    return parsing_result\n",
    "\n",
    "\n",
    "# take celebrity as example\n",
    "cel_train_data = LoadInData(trainset_locs[0])\n",
    "\n",
    "# Basic strategies, and how to evaluate\n",
    "\n",
    "def NoReorder(q, results):\n",
    "    return results\n",
    "\n",
    "def Reversed(q, results):\n",
    "    return list(reversed(results))\n",
    "\n",
    "\n",
    "def EvaluateByRank(strategy, seed=None, train_data=cel_train_data, title=\"\", export_report_at=None):\n",
    "    if seed is None:\n",
    "        seed = random.Random()\n",
    "    score_results = []\n",
    "    \n",
    "    report_data = {\"query_results\" : [], \"title\" : title}\n",
    "    \n",
    "    for q_id, (query, gs_result) in enumerate(train_data):\n",
    "        shuffled_result = copy.copy(gs_result)\n",
    "        seed.shuffle(shuffled_result)\n",
    "        my_result = strategy(query, [i for (i, t) in shuffled_result])\n",
    "        gs_result = [i for i, t in gs_result if t == 1]\n",
    "        \n",
    "        report_item = {\"term\" : query, \"ranked\" : [], \"id\" : q_id}\n",
    "        for r in my_result:\n",
    "            report_item['ranked'].append(\n",
    "                {'is_gs' : (r in gs_result), 'entity' : r})\n",
    "        map_score = apk(gs_result, my_result, len(shuffled_result))\n",
    "        report_item['MAP'] = map_score\n",
    "        report_data[\"query_results\"].append(report_item)\n",
    "        \n",
    "        score_results.append(map_score)\n",
    "    \n",
    "    map_value = sum(score_results) / len(score_results)\n",
    "    \n",
    "    report_data['map_value'] = map_value\n",
    "    if export_report_at is not None:\n",
    "        with open(export_report_at, 'w') as ofile:\n",
    "            html = environment.get_template('error_analysis.html').render(report_data)\n",
    "            ofile.write(html.encode('utf8'))\n",
    "    \n",
    "    return map_value\n",
    "\n",
    "def EvaluateAllByRank(strategy, seed=None):\n",
    "    if seed is None:\n",
    "        seed = random.Random()\n",
    "    result = {}\n",
    "    for sub_task, train_loc in zip(sub_tasks, trainset_locs):\n",
    "        train_data = LoadInData(train_loc)\n",
    "        result[sub_task] = EvaluateByRank(strategy, seed, train_data)\n",
    "    return result\n",
    "\n",
    "print EvaluateAllByRank(NoReorder)\n",
    "print EvaluateAllByRank(Reversed)"
   ]
  },
  {
   "cell_type": "code",
   "execution_count": 3,
   "metadata": {
    "collapsed": false
   },
   "outputs": [
    {
     "name": "stdout",
     "output_type": "stream",
     "text": [
      "{'movie': 0.32330062464220133, 'celebrity': 0.32605351222452034, 'tvShow': 0.22679582987293437, 'restaurant': 0.2338259004008226}\n"
     ]
    }
   ],
   "source": [
    "def OrderByScore(func):\n",
    "    def wrappee(q, results):\n",
    "        return [r for s, r in sorted([\n",
    "                    (func(q, r), r) for r in results\n",
    "                ], reverse=True)]\n",
    "    return wrappee\n",
    "\n",
    "# Try a real metric\n",
    "@OrderByScore\n",
    "def CharOverlap(q, r):\n",
    "    return len(set(q).intersection(set(r)))\n",
    "\n",
    "print EvaluateAllByRank(CharOverlap)"
   ]
  },
  {
   "cell_type": "code",
   "execution_count": 4,
   "metadata": {
    "collapsed": false
   },
   "outputs": [],
   "source": [
    "# exporting results into a file\n",
    "\n",
    "def ExportResultsWithStrategy(strategy):\n",
    "    for output_filename, testdata_loc in zip(output_locs, devset_locs):\n",
    "        testdata = LoadInData(testdata_loc, test_data=True)\n",
    "        with open(output_filename, 'w') as ofile:\n",
    "            for query, entries in testdata:\n",
    "                my_result = strategy(query, [i for (i, t) in entries])\n",
    "                print >> ofile, '\\t'.join([query] + my_result).encode('gbk')\n",
    "            \n",
    "ExportResultsWithStrategy(CharOverlap)"
   ]
  },
  {
   "cell_type": "markdown",
   "metadata": {},
   "source": [
    "## Influence of Cutoff\n",
    "Cutoff can have a big influence. Intuitively, if the first a couple of retrieval results are accurate enough, it's not necessary to include the other ones. Besides, the current submission or restaurants exceeds the size limit. How does cutoff have influence on output?"
   ]
  },
  {
   "cell_type": "code",
   "execution_count": 5,
   "metadata": {
    "collapsed": false
   },
   "outputs": [],
   "source": [
    "def BuildCutoffStrategy(strategy, cutoff):\n",
    "    def wrappee(*args, **kw):\n",
    "        result = strategy(*args, **kw)\n",
    "        return result[:cutoff]\n",
    "    return wrappee\n",
    "\n",
    "results = sc.parallelize(range(1, 101)).map(lambda i: EvaluateAllByRank(BuildCutoffStrategy(CharOverlap, i))).collect()"
   ]
  },
  {
   "cell_type": "code",
   "execution_count": 6,
   "metadata": {
    "collapsed": false
   },
   "outputs": [
    {
     "data": {
      "text/plain": [
       "<matplotlib.legend.Legend at 0x11052d350>"
      ]
     },
     "execution_count": 6,
     "metadata": {},
     "output_type": "execute_result"
    },
    {
     "data": {
      "image/png": "[encoded data removed]",
      "text/plain": [
       "<matplotlib.figure.Figure at 0x11052d190>"
      ]
     },
     "metadata": {},
     "output_type": "display_data"
    }
   ],
   "source": [
    "def PlotForTask(name):\n",
    "    pyplot.plot(range(1, 101), [i[name] for i in results], label=name)\n",
    "    \n",
    "for name in sub_tasks:\n",
    "    PlotForTask(name)\n",
    "pyplot.legend()"
   ]
  },
  {
   "cell_type": "code",
   "execution_count": 7,
   "metadata": {
    "collapsed": false
   },
   "outputs": [
    {
     "name": "stdout",
     "output_type": "stream",
     "text": [
      "{'movie': 0.3100694834246548, 'celebrity': 0.31885806263176003, 'restaurant': 0.21593732500032492, 'tvShow': 0.2095671190443939}\n"
     ]
    }
   ],
   "source": [
    "print results[90]\n",
    "ExportResultsWithStrategy(BuildCutoffStrategy(CharOverlap, 90))"
   ]
  },
  {
   "cell_type": "markdown",
   "metadata": {},
   "source": [
    "It seems with the current strategy, it's always better to submit more results."
   ]
  },
  {
   "cell_type": "markdown",
   "metadata": {},
   "source": [
    "# Exporting Results for Error Analysis\n",
    "\n",
    "Currently we only get a wholistic score. To improve our system, we will need ways to export errors made by the system, and analyze it. Printing the error analysis report will do."
   ]
  },
  {
   "cell_type": "code",
   "execution_count": 9,
   "metadata": {
    "collapsed": false,
    "scrolled": true
   },
   "outputs": [
    {
     "data": {
      "text/html": [
       "<html>\n",
       "  <head>\n",
       "    <title>Experimental Result</title>\n",
       "    <meta charset=\"utf-8\">\n",
       "    <meta name=\"viewport\" content=\"width=device-width, initial-scale=1\">\n",
       "    <link rel=\"stylesheet\" href=\"http://maxcdn.bootstrapcdn.com/bootstrap/3.3.6/css/bootstrap.min.css\">\n",
       "    <script src=\"https://ajax.googleapis.com/ajax/libs/jquery/1.12.0/jquery.min.js\"></script>\n",
       "    <script src=\"https://cdnjs.cloudflare.com/ajax/libs/jquery.tablesorter/2.25.6/js/jquery.tablesorter.min.js\"></script>\n",
       "    <script src=\"http://maxcdn.bootstrapcdn.com/bootstrap/3.3.6/js/bootstrap.min.js\"></script>\n",
       "    <script>\n",
       "     $(document).ready(function() \n",
       "       { \n",
       "         $(\"#experiment_result\").tablesorter(); \n",
       "       } \n",
       "     ); </script>\n",
       "    <style>\n",
       "      .is_gs {\n",
       "        color: green;\n",
       "      }\n",
       "      .no_gs {\n",
       "        \n",
       "      }\n",
       "    </style>\n",
       "  </head>\n",
       "\n",
       "  <body>\n",
       "    <center>\n",
       "      <h1></h1>\n",
       "      <h2>(MAP=0.8)</h2>\n",
       "    </center>\n",
       "\n",
       "    <div class=\"container\">\n",
       "      <table class=\"table table-bordered tablesorter\" id=\"experiment_result\">\n",
       "\t<thead>\n",
       "\t  <tr>\n",
       "\t    <th>Query Ind</th>\n",
       "\t    <th>Query term</th>\n",
       "\t    <th>MAP</th>\n",
       "\t    <th>Ranking Results</th>\n",
       "\t  </tr>\n",
       "\t</thead>\n",
       "\t\n",
       "\t<tbody>\n",
       "\t  \n",
       "\t  <tr>\n",
       "\t    <td></td>\n",
       "\t    <td>good person</td>\n",
       "\t    <td>0.8</td>\n",
       "\t    <td>\n",
       "\t      \n",
       "\t      \n",
       "\t      \n",
       "\t      \n",
       "\t      \n",
       "\t      \n",
       "  \t      <span class=\"is_gs\" title=\"\">1: Huichao Xue</span>\n",
       "\t      \n",
       "\t      \n",
       "\t      , \n",
       "\t      \n",
       "\t      \n",
       "\t      \n",
       "  \t      <span class=\"no_gs\" title=\"\">2: Miao Zhou</span>\n",
       "\t      \n",
       "\t      \n",
       "\t      , \n",
       "\t      \n",
       "\t      \n",
       "\t      \n",
       "  \t      <span class=\"is_gs\" title=\"\">3: Yafei Wei</span>\n",
       "\t      \n",
       "\t    </td>\n",
       "\t  </tr>\n",
       "\t  \n",
       "\t</tbody>\n",
       "      </table>\n",
       "    </div>\n",
       "  </body>\n",
       "</html>"
      ],
      "text/plain": [
       "<IPython.core.display.HTML object>"
      ]
     },
     "metadata": {},
     "output_type": "display_data"
    }
   ],
   "source": [
    "template = environment.get_template('error_analysis.html')\n",
    "display(HTML(template.render({\n",
    "                \"map_value\" : 0.8,\n",
    "                \"query_results\" : [{\"term\" : \"good person\",\n",
    "                                    \"MAP\" : 0.8,\n",
    "                                   \"ranked\" : [{\"is_gs\" : True, \"entity\" : \"Huichao Xue\"},\n",
    "                                               {\"is_gs\" : False, \"entity\" : \"Miao Zhou\"},\n",
    "                                               {\"is_gs\" : True, \"entity\" : \"Yafei Wei\"},\n",
    "                                              ]}]\n",
    "            })))"
   ]
  },
  {
   "cell_type": "code",
   "execution_count": 10,
   "metadata": {
    "collapsed": false
   },
   "outputs": [
    {
     "data": {
      "text/plain": [
       "0.32605351222452034"
      ]
     },
     "execution_count": 10,
     "metadata": {},
     "output_type": "execute_result"
    }
   ],
   "source": [
    "EvaluateByRank(CharOverlap, export_report_at='../reports/char_overlap_celebrity.html', title=\"CharOverlap on celebrities\")"
   ]
  }
 ],
 "metadata": {
  "kernelspec": {
   "display_name": "Python 2",
   "language": "python",
   "name": "python2"
  },
  "language_info": {
   "codemirror_mode": {
    "name": "ipython",
    "version": 2
   },
   "file_extension": ".py",
   "mimetype": "text/x-python",
   "name": "python",
   "nbconvert_exporter": "python",
   "pygments_lexer": "ipython2",
   "version": "2.7.6"
  }
 },
 "nbformat": 4,
 "nbformat_minor": 0
}
