{
 "cells": [
  {
   "cell_type": "markdown",
   "metadata": {},
   "source": [
    "# Basic System Evaluation\n",
    "\n",
    "To fully understand the task, and the difficulties, I'll run one pass of evaluation in this NB. After the initial exploration, we can productionize this code."
   ]
  },
  {
   "cell_type": "code",
   "execution_count": 7,
   "metadata": {
    "collapsed": true
   },
   "outputs": [],
   "source": [
    "# Imports\n",
    "import sklearn\n",
    "from sklearn.metrics import average_precision_score"
   ]
  },
  {
   "cell_type": "code",
   "execution_count": 28,
   "metadata": {
    "collapsed": false
   },
   "outputs": [],
   "source": [
    "# loading datasets\n",
    "\n",
    "sub_tasks = ['celebrity', 'movie', 'restaurant', 'tvShow']\n",
    "trainset_locs = ['../data/TRAIN SET/%s.TRAINSET.txt' % t for t in sub_tasks]\n",
    "devset_locs = ['../data/DEV SET/%s.DEVSET.txt' % t for t in sub_tasks]\n",
    "\n",
    "# take celebrity as example\n",
    "lines = unicode(open(trainset_locs[0]).read(), 'gbk').split('\\n')\n",
    "parsing_result = []\n",
    "for line in lines:\n",
    "    terms = line.split('\\t')\n",
    "    items = []\n",
    "    for i in terms[1:]:\n",
    "        ent, score = tuple(i.split(':'))\n",
    "        items.append((ent, int(score)))\n",
    "    if len(items) == 0:\n",
    "        continue\n",
    "    parsing_result.append((terms[0], items))"
   ]
  },
  {
   "cell_type": "code",
   "execution_count": 21,
   "metadata": {
    "collapsed": false,
    "scrolled": true
   },
   "outputs": [
    {
     "name": "stdout",
     "output_type": "stream",
     "text": [
      "(u'\\u6c11\\u56fd\\u9769\\u547d\\u5bb6', [(u'\\u9ec4\\u4e43\\u88f3', 1), (u'\\u6851\\u539f\\u548c\\u771f', 0), (u'\\u738b\\u5fec', 0), (u'\\u5f20\\u79b9(\\u73b0\\u4ee3\\u77e5\\u540d\\u4f5c\\u5bb6\\u3001\\u6587\\u5b66\\u8bc4\\u8bba\\u5bb6\\u3001\\u7f16\\u8f91\\u5bb6)', 0), (u'\\u65b9\\u60f3', 0), (u'\\u5218\\u6770(\\u4e0a\\u6d77\\u793e\\u4f1a\\u79d1\\u5b66\\u9662\\u535a\\u5bfc)', 0), (u'\\u5f20\\u8f89(\\u7518\\u8083\\u7701\\u56fd\\u571f\\u8d44\\u6e90\\u5385\\u526f\\u5de1\\u89c6\\u5458)', 0), (u'\\u6881\\u51a0\\u534e', 0), (u'\\u9646\\u5b50\\u4fee(\\u8457\\u540d\\u4e09\\u519c\\u95ee\\u9898\\u4e13\\u5bb6)', 0), (u'\\u674e\\u9640', 0), (u'\\u6768\\u518d\\u5e73', 0), (u'\\u5f90\\u83b9(\\u4e2d\\u56fd\\u4eba\\u6c11\\u5927\\u5b66\\u526f\\u6559\\u6388)', 0), (u'\\u8d1e\\u513f\\u7687\\u540e', 0), (u'\\u6c88\\u5955\\u6590', 0), (u'\\u5f20\\u5b66\\u5175(\\u5bbf\\u8fc1\\u5e02\\u6cd5\\u5b98\\u57f9\\u8bad\\u5b66\\u9662\\u515a\\u59d4\\u59d4\\u5458\\u3001\\u526f\\u9662\\u957f)', 0), (u'\\u6768\\u541b(\\u5929\\u6d25\\u677e\\u6c5f\\u8db3\\u7403\\u4ff1\\u4e50\\u90e8\\u8fd0\\u52a8\\u5458)', 0), (u'\\u9976\\u4e91\\u6c5f', 0), (u'\\u7434\\u6b4c(\\u6307\\u5f39\\u5409\\u4ed6\\u624b)', 0), (u'\\u5218\\u51a0\\u9e9f(\\u9ed1\\u9f99\\u6c5f\\u7c4d\\u6f14\\u5458)', 0), (u'\\u6731\\u7269\\u534e', 0), (u'\\u5f20\\u79c0\\u8273(\\u9996\\u90fd\\u5e08\\u8303\\u5927\\u5b66\\u97f3\\u4e50\\u5b66\\u9662\\u526f\\u6559\\u6388)', 0), (u'\\u6797\\u521a(\\u5317\\u4eac\\u5de5\\u5546\\u5927\\u5b66\\u827a\\u672f\\u4e0e\\u4f20\\u5a92\\u5b66\\u9662\\u526f\\u6559\\u6388)', 0), (u'\\u9648\\u56fd\\u5e73(\\u798f\\u5efa\\u60e0\\u5b89\\u65b0\\u5b8f\\u77f3\\u6750\\u6709\\u9650\\u516c\\u53f8\\u8463\\u4e8b\\u957f)', 0), (u'\\u738b\\u6587\\u5fb7(\\u6e05\\u671d\\u6587\\u4eba)', 0), (u'\\u76ae\\u5b9a\\u5747', 0), (u'\\u674e\\u5efa\\u534e(\\u5c71\\u4e1c\\u519c\\u4e1a\\u5927\\u5b66\\u526f\\u6559\\u6388)', 0), (u'\\u8ba9-\\u5362\\u514b\\xb7\\u6bd4\\u6d1b\\u591a(Jean-Luc Bilodeau)', 0), (u'\\u8ffd\\u6355(\\u53d8\\u5f62\\u91d1\\u521a\\u89d2\\u8272)', 0), (u'\\u5f20\\u94ce(\\u4e2d\\u56fd\\u6613\\u5b66\\u5927\\u5e08\\u6c11\\u95f4\\u827a\\u672f\\u5bb6)', 0), (u'\\u591c\\u795e\\u603b\\u4e00\\u90ce', 0), (u'\\u674e\\u6d01(\\u5317\\u4eac\\u514b\\u4e3d\\u65af\\u6559\\u80b2\\u53d1\\u5c55\\u4e2d\\u5fc3\\u8463\\u4e8b\\u957f)', 0), (u'\\u5f20\\u5b9a\\u56fd(\\u4e0a\\u6d77\\u5e02\\u4eba\\u6c11\\u6ed1\\u7a3d\\u5267\\u56e2\\u5e38\\u52a1\\u526f\\u56e2\\u957f)', 0), (u'\\u674e\\u4f1f(\\u5409\\u6797\\u7701\\u767d\\u57ce\\u5e02\\u4e66\\u6cd5\\u5bb6)', 0), (u'\\u674e\\u957f\\u5e9a(\\u4fe1\\u9633\\u5e08\\u8303\\u5b66\\u9662\\u7269\\u7406\\u7535\\u5b50\\u5de5\\u7a0b\\u5b66\\u9662\\u6559\\u5e08)', 0), (u'\\u5b89\\u5fb7\\u9c81\\xb7\\u53e4\\u5fb7\\u6d1b\\u514b', 0), (u'\\u6797\\u7199(\\u95f5\\u7199\\u96c6\\u56e2\\u8463\\u4e8b\\u957f)', 0), (u'\\u65bd\\u5e73(\\u6e56\\u5357\\u7701\\u653f\\u5e9c\\u529e\\u516c\\u5385\\u4f1a\\u8bae\\u5904\\u8c03\\u7814\\u5458)', 0), (u'\\u5468\\u8f89(\\u5c0f\\u5b66\\u6570\\u5b66\\u9ad8\\u7ea7\\u6559\\u5e08)', 0), (u'\\u674e\\u5cb7(\\u4e2d\\u56fd\\u533b\\u5b66\\u79d1\\u5b66\\u9662\\u76ae\\u80a4\\u75c5\\u533b\\u9662\\u526f\\u4e3b\\u4efb\\u533b\\u5e08)', 0), (u'\\u674e\\u536b\\u4e1c(7.\\u56db\\u5ddd\\u7701\\u6c5f\\u5b89\\u53bf\\u4e94\\u77ff\\u9547\\u4eba\\u5927\\u526f\\u4e3b\\u5e2d)', 0), (u'\\u8c08\\u6587\\u864e', 0), (u'\\u767d\\u7389\\u5ddd(\\u5f71\\u89c6\\u89d2\\u8272)', 0), (u'\\u5b8b\\u56fd\\u950b(\\u8fbd\\u5b81\\u513f\\u7ae5\\u827a\\u672f\\u5267\\u9662\\u9662\\u957f)', 0), (u'\\u738b\\u7d2b\\u5a07', 0), (u'\\u8463\\u5cf0(\\u5357\\u4eac\\u827a\\u672f\\u5b66\\u9662\\u4eba\\u6587\\u5b66\\u9662\\u9662\\u957f)', 0), (u'\\u6768\\u5dcd(\\u660e\\u4ee3\\u5b98\\u5458)', 0), (u'\\u84dd\\u6587\\u4e91', 0), (u'\\u5434\\u6960(\\u9655\\u897f\\u7c4d\\u6b4c\\u624b)', 0), (u'\\u8bb8\\u6674(\\u6d59\\u6c5f\\u7701\\u5609\\u5174\\u5e02\\u5609\\u5584\\u53bf\\u59d4\\u4e66\\u8bb0)', 0), (u'\\u9648\\u8428', 0), (u'\\u5468\\u5065(\\u540c\\u6d4e\\u5927\\u5b66\\u6559\\u6388)', 0), (u'\\u7a0b\\u6587(\\u9769\\u547d\\u70c8\\u58eb)', 0), (u'\\u5b89\\u51ac(\\u7f51\\u7edc\\u6b4c\\u624b)', 0), (u'\\u5434\\u514b\\u534e', 0), (u'\\u5bcc\\u5c14\\u987f', 0), (u'\\u4ed8\\u5b81', 0), (u'\\u7ae0\\u6587\\u742a', 0), (u'\\u6258\\u9a6c\\u65af\\xb7\\u514b\\u83b1\\u5f7b\\u66fc', 0), (u'\\u6881\\u4f1f(\\u5317\\u4eac\\u536b\\u89c6\\u5bfc\\u6f14)', 0), (u'\\u9a6c\\u5e93\\u65af\\xb7\\u574e\\u6bd4', 0), (u'\\u738b\\u6dd1\\u5a1f(\\u54c8\\u5c14\\u6ee8\\u5de5\\u4e1a\\u5927\\u5b66\\u6559\\u6388)', 0), (u'\\u9c8d\\u52c3\\xb7\\u5188\\u987f', 0), (u'\\u9a6c\\u514b\\xb7\\u53f2\\u4f69\\u65af', 0), (u'\\u5218\\u80e1\\u8f76', 0), (u'\\u80e1\\u8f66\\u513f(\\u4e1c\\u6c49\\u672b\\u5e74\\u6b66\\u5c06)', 0), (u'\\u590f\\u4e00\\u6ce2(\\u5168\\u519b\\u7cbe\\u795e\\u79d1\\u4e13\\u4e1a\\u59d4\\u5458\\u4f1a\\u4e3b\\u4efb)', 0), (u'\\u4efb\\u5efa\\u56fd(\\u5c71\\u897f\\u5927\\u5b66\\u5316\\u5b66\\u5316\\u5de5\\u5b66\\u9662\\u6559\\u6388)', 0), (u'\\u9648\\u5149\\u7f8e(\\u6c11\\u56fd\\u5b66\\u8005)', 0), (u'\\u67a3\\u614e', 0), (u'\\u6731\\u4eae(\\u753b\\u5bb6)', 0), (u'\\u5df4\\u8482\\u65af\\u5854(\\u6454\\u8de4\\u9009\\u624b)', 0), (u'\\u53f2\\u53ef\\u6cd5(\\u660e\\u672b\\u6297\\u6e05\\u540d\\u5c06\\u3001\\u6c11\\u65cf\\u82f1\\u96c4)', 0), (u'\\u7a0b\\u5fd7\\u5f3a(\\u71d5\\u4eac\\u60e0\\u6cc9\\u5564\\u9152\\u798f\\u9f0e\\u6709\\u9650\\u516c\\u53f8\\u603b\\u7ecf\\u7406)', 0), (u'\\u83ab\\u540d(\\u4e66\\u753b\\u827a\\u672f\\u5bb6)', 0), (u'\\u5fa1\\u8336\\u6e0d\\u6d77\\u82d4', 0), (u'\\u8d75\\u8273(\\u5510\\u5c71\\u5e02\\u4eac\\u5267\\u56e2\\u6f14\\u5458)', 0), (u'\\u960e\\u5e94\\u5143', 0), (u'\\u9ad8\\u78ca(\\u6307\\u6325\\u5bb6)', 0), (u'\\u4e39\\u59ae\\u5a05', 0), (u'\\u5d47\\u749c', 0), (u'\\u5f90\\u654f(\\u82cf\\u5dde\\u5927\\u5b66\\u9644\\u5c5e\\u7b2c\\u4e00\\u533b\\u9662\\u526f\\u6559\\u6388)', 0), (u'\\u6d3e\\u73c0\\xb7\\u4f69\\u62c9\\u535a', 0), (u'\\u85e4\\u5377\\u4eae\\u592a', 0), (u'\\u5a01\\u5ec9\\xb7\\u6208\\u5c14\\u4e01', 0), (u'\\u674e\\u82b3(\\u5987\\u79d1\\u4e3b\\u6cbb\\u533b\\u5e08)', 0), (u'\\u6210\\u94a2(\\u6842\\u6797\\u7535\\u5b50\\u79d1\\u6280\\u5927\\u5b66\\u6559\\u6388)', 0), (u'\\u8bb8\\u98de\\u743c(\\u4e2d\\u56fd\\u4eba\\u6c11\\u5927\\u5b66\\u526f\\u6559\\u6388)', 0), (u'\\u9648\\u96f7(\\u6d59\\u6c5f\\u7406\\u5de5\\u5927\\u5b66\\u6559\\u6388)', 0), (u'\\u6797\\u7ebe', 0), (u'\\u5ebe\\u6f84\\u5e86', 0), (u'\\u5e1d\\u55be(\\u5e1d\\u835b)', 0), (u'\\u7fe6\\u4f2f\\u8d5e', 0), (u'\\u738b\\u5b66\\u4ef2', 0), (u'\\u9a6c\\u7231\\u56fd(\\u4e2d\\u56fd\\u7ba1\\u7406\\u79d1\\u5b66\\u7814\\u7a76\\u9662\\u9ad8\\u7ea7\\u8bb2\\u5e08)', 0), (u'\\u9648\\u5c9a(\\u4e2d\\u56fd\\u79d1\\u5b66\\u9662\\u4e0a\\u6d77\\u5929\\u6587\\u53f0\\u7814\\u7a76\\u5458)', 0), (u'\\u5f90\\u6bc5(\\u5b81\\u590f\\u9686\\u6e56\\u623f\\u5730\\u4ea7\\u5f00\\u53d1\\u516c\\u53f8\\u8463\\u4e8b\\u957f)', 0), (u'\\u5f90\\u51a0\\u4ec1', 0), (u'\\u9ec4\\u5fd7\\u52c7(\\u89e3\\u653e\\u519b\\u603b\\u653f\\u6cbb\\u90e8\\u539f\\u526f\\u4e3b\\u4efb\\u3001\\u4e2d\\u5c06)', 0), (u'\\u6728\\u53f6\\u4e0a\\u5fcd', 0), (u'\\u5deb\\u6167\\u654f', 0)])\n"
     ]
    }
   ],
   "source": [
    "print parsing_result[0]"
   ]
  },
  {
   "cell_type": "code",
   "execution_count": 32,
   "metadata": {
    "collapsed": false
   },
   "outputs": [
    {
     "name": "stdout",
     "output_type": "stream",
     "text": [
      "0.999258594998\n",
      "0.0649129504582\n"
     ]
    }
   ],
   "source": [
    "def NoReorder(q, results):\n",
    "    return results\n",
    "\n",
    "def Reversed(q, results):\n",
    "    return reversed(results)\n",
    "\n",
    "def EvaluateByRank(strategy):\n",
    "    score_results = []\n",
    "    for query, gs_result in parsing_result:\n",
    "        my_result = strategy(query, [i for (i, t) in gs_result])\n",
    "        rank_map = dict((r, i) for (i, r) in enumerate(my_result))\n",
    "        l = len(gs_result)\n",
    "        scores = [float(l-rank_map[i]) / l for (i, t) in gs_result]\n",
    "        s = average_precision_score([t for i, t in gs_result], scores)\n",
    "        score_results.append(s)\n",
    "    return sum(score_results) / len(score_results)\n",
    "\n",
    "print EvaluateByRank(NoReorder)\n",
    "print EvaluateByRank(Reversed)"
   ]
  },
  {
   "cell_type": "code",
   "execution_count": 37,
   "metadata": {
    "collapsed": false
   },
   "outputs": [
    {
     "name": "stdout",
     "output_type": "stream",
     "text": [
      "0.297675985437\n"
     ]
    }
   ],
   "source": [
    "def OrderByScore(func):\n",
    "    def wrappee(q, results):\n",
    "        return [r for s, r in sorted([\n",
    "                    (func(q, r), r) for r in results\n",
    "                ], reverse=True)]\n",
    "    return wrappee\n",
    "\n",
    "# Try a real metric\n",
    "@OrderByScore\n",
    "def CharOverlap(q, r):\n",
    "    return len(set(q).intersection(set(r)))\n",
    "\n",
    "print EvaluateByRank(CharOverlap)\n",
    "    "
   ]
  },
  {
   "cell_type": "code",
   "execution_count": null,
   "metadata": {
    "collapsed": true
   },
   "outputs": [],
   "source": [
    "# exporting results into a file\n"
   ]
  }
 ],
 "metadata": {
  "kernelspec": {
   "display_name": "Python 2",
   "language": "python",
   "name": "python2"
  },
  "language_info": {
   "codemirror_mode": {
    "name": "ipython",
    "version": 2
   },
   "file_extension": ".py",
   "mimetype": "text/x-python",
   "name": "python",
   "nbconvert_exporter": "python",
   "pygments_lexer": "ipython2",
   "version": "2.7.6"
  }
 },
 "nbformat": 4,
 "nbformat_minor": 0
}
